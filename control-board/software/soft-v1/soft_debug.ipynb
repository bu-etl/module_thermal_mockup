{
 "cells": [
  {
   "cell_type": "code",
   "execution_count": null,
   "metadata": {},
   "outputs": [
    {
     "name": "stdout",
     "output_type": "stream",
     "text": [
      "probe 2\n",
      "Probe 2: 0xc0b\n"
     ]
    }
   ],
   "source": [
    "from firmware_interface import ThermalMockupV2\n",
    "\"\"\"\n",
    "Probe 3: 0xbd3\n",
    "Probe\n",
    "2: 0xc0b\n",
    "Probe 1: 0xbd3\n",
    "\"\"\"\n",
    "fw_interface = ThermalMockupV2()\n",
    "last_readout = \"probe \"\n",
    "name = \"P2\"\n",
    "data = \"2: 0xc0b\"\n",
    "    #self.raw_adc_length = 6 #length of this string 72a4ff\n",
    "\n",
    "data = data.lower()\n",
    "validated_adc_value = None\n",
    "\n",
    "#first check if data was split over two lines, sometimes happens\n",
    "measure_adc_command = fw_interface.write_sensor(name)\n",
    "print(measure_adc_command)\n",
    "merged_line_data = last_readout + data\n",
    "print(merged_line_data)\n",
    "expected_data_length = fw_interface.data_line_length(name) #len(self.measure_adc_command) + self.raw_adc_length + 1 #+1 for the space between \"measure 1\" and raw_adc, total is 16 \n",
    "data_was_split = (\n",
    "    (merged_line_data).count(measure_adc_command)==1 #if data was split, the merged data should only contain the measure_adc_command once\n",
    "    and \n",
    "    merged_line_data.startswith(measure_adc_command) #cleans rare case where previous cut off is same length as current cut off\n",
    "    and\n",
    "    len(merged_line_data)==expected_data_length #its length should also be something like len(\"measure 1 72a4ff\"), prevents cases like \"measure 1 72a4ffmeasure 2 72a4ff\"\n",
    ")\n",
    "if data_was_split:\n",
    "    data = merged_line_data\n",
    "\n",
    "#check if command is in data\n",
    "if measure_adc_command in data and len(data) == expected_data_length:\n",
    "    raw_adc = fw_interface.read_sensor(data)\n",
    "    if raw_adc != '0' or not raw_adc:\n",
    "        #sometimes raw_adc can give 0, skip append for these\n",
    "        validated_adc_value = raw_adc\n",
    "\n",
    "#for checking split lines on arduino\n",
    "last_readout = data\n",
    "\n",
    "if validated_adc_value is not None:\n",
    "    print(\"hooray\")\n",
    "    print(validated_adc_value)\n",
    "\n"
   ]
  }
 ],
 "metadata": {
  "kernelspec": {
   "display_name": "thermal_mockup",
   "language": "python",
   "name": "python3"
  },
  "language_info": {
   "codemirror_mode": {
    "name": "ipython",
    "version": 3
   },
   "file_extension": ".py",
   "mimetype": "text/x-python",
   "name": "python",
   "nbconvert_exporter": "python",
   "pygments_lexer": "ipython3",
   "version": "3.12.4"
  }
 },
 "nbformat": 4,
 "nbformat_minor": 2
}

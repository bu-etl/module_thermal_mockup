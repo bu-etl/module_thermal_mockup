{
 "cells": [
  {
   "cell_type": "code",
   "execution_count": 6,
   "metadata": {},
   "outputs": [],
   "source": [
    "import sys\n",
    "sys.path.append(\"../\")\n",
    "from database import models"
   ]
  },
  {
   "cell_type": "code",
   "execution_count": null,
   "metadata": {},
   "outputs": [
    {
     "name": "stdout",
     "output_type": "stream",
     "text": [
      "-18.3125\n",
      "Probe 1 is -18.625 degrees C\n",
      "Probe 2 is -18.375 degrees C\n",
      "Probe 3 is -18.3125 degrees C\n"
     ]
    }
   ],
   "source": [
    "TM1_minus_20 = \"\"\"\n",
    "Probe 1: 0xf6b3\n",
    "Probe 2: 0xf6d3\n",
    "Probe 3: 0xf6db\n",
    "\"\"\" #approx -18.3 for all so off by 1.7 degrees too warm\n",
    "\n",
    "def convert_hex(hex:str):\n",
    "    int_value = int(hex, 16)\n",
    "    int_value >>= 3\n",
    "    if int_value & 0x1000:\n",
    "        int_value -= 0x2000\n",
    "    return int_value * 0.0625\n",
    "\n",
    "for probe_temp in TM1_minus_20.split(\"\\n\"):\n",
    "    if probe_temp:\n",
    "        probe, hex_temp = probe_temp.split(\":\")\n",
    "        print(f\"{probe.strip()} is {convert_hex(hex_temp.strip())} degrees C\")\n",
    "# see if TM2 is constant offset throughout then if so just do 2 deg offset"
   ]
  },
  {
   "cell_type": "code",
   "execution_count": 14,
   "metadata": {},
   "outputs": [
    {
     "name": "stdout",
     "output_type": "stream",
     "text": [
      "---------\n",
      "Actual Temp: 10.1, Probe Temps: [11.75, 12.25, 12.1875]\n",
      "Differences: [-1.6500000000000004, -2.1500000000000004, -2.0875000000000004]\n",
      "---------\n",
      "---------\n",
      "Actual Temp: 5, Probe Temps: [6.6875, 7.1875, 7.1875]\n",
      "Differences: [-1.6875, -2.1875, -2.1875]\n",
      "---------\n",
      "---------\n",
      "Actual Temp: -0.1, Probe Temps: [1.5625, 2.0625, 2.0625]\n",
      "Differences: [-1.6625, -2.1625, -2.1625]\n",
      "---------\n",
      "---------\n",
      "Actual Temp: -5.1, Probe Temps: [-3.4375, -2.9375, -2.9375]\n",
      "Differences: [-1.6624999999999996, -2.1624999999999996, -2.1624999999999996]\n",
      "---------\n",
      "---------\n",
      "Actual Temp: -10.3, Probe Temps: [-8.5625, -8.0625, -8.125]\n",
      "Differences: [-1.7375000000000007, -2.2375000000000007, -2.1750000000000007]\n",
      "---------\n",
      "---------\n",
      "Actual Temp: -15, Probe Temps: [-13.3125, -12.8125, -12.8125]\n",
      "Differences: [-1.6875, -2.1875, -2.1875]\n",
      "---------\n",
      "---------\n",
      "Actual Temp: -19.8, Probe Temps: [-18.125, -17.625, -17.6875]\n",
      "Differences: [-1.6750000000000007, -2.1750000000000007, -2.1125000000000007]\n",
      "---------\n"
     ]
    },
    {
     "data": {
      "image/png": "[encoded data removed]",
      "text/plain": [
       "<Figure size 640x480 with 1 Axes>"
      ]
     },
     "metadata": {},
     "output_type": "display_data"
    }
   ],
   "source": [
    "TM2_probe_calibration = {\n",
    "    10.1: \"Probe 1: 0x5e3, Probe 2: 0x623, Probe 3: 0x61b\",\n",
    "    5: \"Probe 1: 0x35b, Probe 2: 0x39b, Probe 3: 0x39b\",\n",
    "    -0.1: \"Probe 1: 0xcb, Probe 2: 0x10b, Probe 3: 0x10b\",\n",
    "    -5.1:\"Probe 1: 0xfe4b, Probe 2: 0xfe8b, Probe 3: 0xfe8b\",\n",
    "    -10.3: \"Probe 1: 0xfbbb, Probe 2: 0xfbfb, Probe 3: 0xfbf3\",\n",
    "    -15: \"Probe 1: 0xf95b, Probe 2: 0xf99b, Probe 3: 0xf99b\",\n",
    "    -19.8: \"Probe 1: 0xf6f3, Probe 2: 0xf733, Probe 3: 0xf72b\"\n",
    "}\n",
    "\n",
    "import matplotlib.pyplot as plt\n",
    "# print the actual temp and the probe temp\n",
    "for actual_temp, raw_probe_temps in TM2_probe_calibration.items():\n",
    "    probes = [\"Probe 1\", \"Probe 2\", \"Probe 3\"]\n",
    "    probe_temps = [convert_hex(pt.split()[-1]) for pt in raw_probe_temps.split(', ')]\n",
    "    differences = [actual_temp - pt for pt in probe_temps]\n",
    "\n",
    "    for i, probe in enumerate(probes):\n",
    "        plt.scatter(actual_temp, probe_temps[i], label=probe)\n",
    "\n",
    "    \n",
    "    print('---------')\n",
    "    print(f\"Actual Temp: {actual_temp}, Probe Temps: {probe_temps}\")\n",
    "    print(f\"Differences: {[actual_temp - pt for pt in probe_temps]}\")\n",
    "    print('---------')\n",
    "\n",
    "\n"
   ]
  }
 ],
 "metadata": {
  "kernelspec": {
   "display_name": "thermal_mockup",
   "language": "python",
   "name": "python3"
  },
  "language_info": {
   "codemirror_mode": {
    "name": "ipython",
    "version": 3
   },
   "file_extension": ".py",
   "mimetype": "text/x-python",
   "name": "python",
   "nbconvert_exporter": "python",
   "pygments_lexer": "ipython3",
   "version": "3.12.4"
  }
 },
 "nbformat": 4,
 "nbformat_minor": 2
}

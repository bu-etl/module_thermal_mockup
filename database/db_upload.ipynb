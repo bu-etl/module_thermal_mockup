{
 "cells": [
  {
   "cell_type": "code",
   "execution_count": 1,
   "metadata": {},
   "outputs": [],
   "source": [
    "from env import DATABASE_URI\n",
    "from sqlalchemy import create_engine, text, select\n",
    "from sqlalchemy.orm import Session\n",
    "import models as dm \n",
    "from datetime import datetime\n",
    "engine = create_engine(DATABASE_URI, echo=False )\n"
   ]
  },
  {
   "cell_type": "code",
   "execution_count": null,
   "metadata": {},
   "outputs": [],
   "source": [
    "##\n",
    "#### ADD THERMAL MOCKUP\n",
    "##\n",
    "\n",
    "# increment by one for the FNAL\n",
    "THERMAL_MOCKUP_SERIAL_NUMBER = \"TM0002\"\n",
    "with Session(engine) as session:\n",
    "    thermal_mockup = dm.Module(\n",
    "        name = THERMAL_MOCKUP_SERIAL_NUMBER\n",
    "    )\n",
    "    session.add(thermal_mockup)\n",
    "    session.commit()"
   ]
  },
  {
   "cell_type": "code",
   "execution_count": null,
   "metadata": {},
   "outputs": [],
   "source": [
    "##\n",
    "#### SOLDER PLATE UPLOAD\n",
    "##\n",
    "with Session(engine) as session:\n",
    "    # # add Cold Plate configuration (epoxy and solder v1 and solder v2)\n",
    "    with open(\"/home/hayden/Downloads/pretty_double_loop_solder_plate.png\", 'rb') as f:\n",
    "        plate_image = f.read()\n",
    "    plate = dm.ColdPlate(\n",
    "        name='Pretty Double Loop Solder Plate',\n",
    "        positions = {\n",
    "            1:  'front side, top row, far left',\n",
    "            2:  'front side, top row, middle left',\n",
    "            3:  'front side, top row, middle right',\n",
    "            4:  'front side, top row, far right',\n",
    "            5:  'front side, middle row, far left',\n",
    "            6:  'front side, middle row, middle left',\n",
    "            7:  'front side, middle row, middle right',\n",
    "            8:  'front side, middle row, far right',\n",
    "            9:  'front side, bottom row, far left',\n",
    "            10: 'front side, bottom row, middle left',\n",
    "            11: 'front side, bottom row, middle right',\n",
    "            12: 'front side, bottom row, far right',\n",
    "            13: 'back side, top row, far left',\n",
    "            14: 'back side, top row, middle left',\n",
    "            15: 'back side, top row, middle right',\n",
    "            16: 'back side, top row, far right',\n",
    "            17: 'back side, middle row, far left',\n",
    "            18: 'back side, middle row, middle left',\n",
    "            19: 'back side, middle row, middle right',\n",
    "            20: 'back side, middle row, far right',\n",
    "            21: 'back side, bottom row, far left bottom',\n",
    "            22: 'back side, bottom row, middle left bottom',\n",
    "            23: 'back side, bottom row, middle right bottom',\n",
    "            24: 'back side, bottom row, far right bottom'\n",
    "        },\n",
    "        plate_image = plate_image,\n",
    "    )\n",
    "    session.add(plate)\n",
    "    session.commit()"
   ]
  },
  {
   "cell_type": "code",
   "execution_count": null,
   "metadata": {},
   "outputs": [],
   "source": [
    "##\n",
    "#### CALIBRATION DATA\n",
    "## \n",
    "import json\n",
    "\n",
    "MODULE_SERIAL_NUMBER = 'TM0001'\n",
    "CALIBRATION_DATA_PATH = \"/home/hayden/repos/module_pcb_thermal_mockup/module_pcb_thermal_mockup_v3.5/software/CalibrationGUI/calibration_data_TM0001_2024-09-16 13:25:57.037017.json\"\n",
    "\n",
    "ENABLED_SENSORS = ['E1','E3','E4']\n",
    "\n",
    "CALIBRATION_COMMENT = \"This is the recalibration for the thermal mockup that was done by Hayden at IRRAD\"\n",
    "\n",
    "with Session(engine) as session:\n",
    "    query = select(dm.Module).where(dm.Module.name == MODULE_SERIAL_NUMBER)\n",
    "    thermal_mockup = session.execute(query).scalars().first()\n",
    "    \n",
    "    with open(CALIBRATION_DATA_PATH, 'r') as f:\n",
    "        calib_data = json.load(f)\n",
    "\n",
    "    db_calibs = []\n",
    "    for sensor in ENABLED_SENSORS:\n",
    "        db_calibs.append(\n",
    "            dm.SensorCalibration(\n",
    "                module = thermal_mockup,\n",
    "                sensor = sensor,\n",
    "                fit_ohms_over_celcius = calib_data[sensor]['fit_slope'],\n",
    "                fit_ohms_intercept = calib_data[sensor]['fit_intercept'],\n",
    "                celcius = calib_data[sensor]['temps'],\n",
    "                ohms = calib_data[sensor]['ohms'],\n",
    "                raw_adc = calib_data[sensor]['raw_adcs'],\n",
    "                times = calib_data[sensor]['times'],\n",
    "                all_raw_adcs = calib_data[sensor]['all_raw_adcs'],\n",
    "                all_raw_times = calib_data[sensor]['all_times'],\n",
    "            )\n",
    "        )\n",
    "    session.add_all(db_calibs)\n",
    "    raise NotImplementedError(\"FIX the below code for selected sensors :)\")\n",
    "    mod_recalib = dm.ModuleCalibration(\n",
    "        E1 = db_calibs[0],\n",
    "        E3 = db_calibs[1],\n",
    "        E4 = db_calibs[2],\n",
    "        module = thermal_mockup,\n",
    "        comment=CALIBRATION_COMMENT\n",
    "    )\n",
    "\n",
    "    session.add(mod_recalib)\n",
    "\n",
    "    thermal_mockup.calibration = mod_recalib\n",
    "\n",
    "    session.commit()"
   ]
  },
  {
   "cell_type": "code",
   "execution_count": null,
   "metadata": {},
   "outputs": [
    {
     "ename": "ArgumentError",
     "evalue": "Executable SQL or text() construct expected, got <class 'models.Run'>.",
     "output_type": "error",
     "traceback": [
      "\u001b[0;31m---------------------------------------------------------------------------\u001b[0m",
      "\u001b[0;31mArgumentError\u001b[0m                             Traceback (most recent call last)",
      "Cell \u001b[0;32mIn[2], line 4\u001b[0m\n\u001b[1;32m      1\u001b[0m \u001b[38;5;66;03m# list run numbers \u001b[39;00m\n\u001b[1;32m      3\u001b[0m \u001b[38;5;28;01mwith\u001b[39;00m Session(engine) \u001b[38;5;28;01mas\u001b[39;00m session:\n\u001b[0;32m----> 4\u001b[0m     query \u001b[38;5;241m=\u001b[39m \u001b[43msession\u001b[49m\u001b[38;5;241;43m.\u001b[39;49m\u001b[43mscalars\u001b[49m\u001b[43m(\u001b[49m\u001b[43mdm\u001b[49m\u001b[38;5;241;43m.\u001b[39;49m\u001b[43mRun\u001b[49m\u001b[43m)\u001b[49m\n\u001b[1;32m      6\u001b[0m     \u001b[38;5;28;01mfor\u001b[39;00m run \u001b[38;5;129;01min\u001b[39;00m session\u001b[38;5;241m.\u001b[39mexecute(query):\n\u001b[1;32m      7\u001b[0m         \u001b[38;5;28mprint\u001b[39m(run)\n",
      "File \u001b[0;32m~/anaconda3/envs/thermal_mockup/lib/python3.12/site-packages/sqlalchemy/orm/session.py:2459\u001b[0m, in \u001b[0;36mSession.scalars\u001b[0;34m(self, statement, params, execution_options, bind_arguments, **kw)\u001b[0m\n\u001b[1;32m   2430\u001b[0m \u001b[38;5;28;01mdef\u001b[39;00m \u001b[38;5;21mscalars\u001b[39m(\n\u001b[1;32m   2431\u001b[0m     \u001b[38;5;28mself\u001b[39m,\n\u001b[1;32m   2432\u001b[0m     statement: Executable,\n\u001b[0;32m   (...)\u001b[0m\n\u001b[1;32m   2437\u001b[0m     \u001b[38;5;241m*\u001b[39m\u001b[38;5;241m*\u001b[39mkw: Any,\n\u001b[1;32m   2438\u001b[0m ) \u001b[38;5;241m-\u001b[39m\u001b[38;5;241m>\u001b[39m ScalarResult[Any]:\n\u001b[1;32m   2439\u001b[0m \u001b[38;5;250m    \u001b[39m\u001b[38;5;124;03m\"\"\"Execute a statement and return the results as scalars.\u001b[39;00m\n\u001b[1;32m   2440\u001b[0m \n\u001b[1;32m   2441\u001b[0m \u001b[38;5;124;03m    Usage and parameters are the same as that of\u001b[39;00m\n\u001b[0;32m   (...)\u001b[0m\n\u001b[1;32m   2456\u001b[0m \n\u001b[1;32m   2457\u001b[0m \u001b[38;5;124;03m    \"\"\"\u001b[39;00m\n\u001b[0;32m-> 2459\u001b[0m     \u001b[38;5;28;01mreturn\u001b[39;00m \u001b[38;5;28;43mself\u001b[39;49m\u001b[38;5;241;43m.\u001b[39;49m\u001b[43m_execute_internal\u001b[49m\u001b[43m(\u001b[49m\n\u001b[1;32m   2460\u001b[0m \u001b[43m        \u001b[49m\u001b[43mstatement\u001b[49m\u001b[43m,\u001b[49m\n\u001b[1;32m   2461\u001b[0m \u001b[43m        \u001b[49m\u001b[43mparams\u001b[49m\u001b[38;5;241;43m=\u001b[39;49m\u001b[43mparams\u001b[49m\u001b[43m,\u001b[49m\n\u001b[1;32m   2462\u001b[0m \u001b[43m        \u001b[49m\u001b[43mexecution_options\u001b[49m\u001b[38;5;241;43m=\u001b[39;49m\u001b[43mexecution_options\u001b[49m\u001b[43m,\u001b[49m\n\u001b[1;32m   2463\u001b[0m \u001b[43m        \u001b[49m\u001b[43mbind_arguments\u001b[49m\u001b[38;5;241;43m=\u001b[39;49m\u001b[43mbind_arguments\u001b[49m\u001b[43m,\u001b[49m\n\u001b[1;32m   2464\u001b[0m \u001b[43m        \u001b[49m\u001b[43m_scalar_result\u001b[49m\u001b[38;5;241;43m=\u001b[39;49m\u001b[38;5;28;43;01mFalse\u001b[39;49;00m\u001b[43m,\u001b[49m\u001b[43m  \u001b[49m\u001b[38;5;66;43;03m# mypy appreciates this\u001b[39;49;00m\n\u001b[1;32m   2465\u001b[0m \u001b[43m        \u001b[49m\u001b[38;5;241;43m*\u001b[39;49m\u001b[38;5;241;43m*\u001b[39;49m\u001b[43mkw\u001b[49m\u001b[43m,\u001b[49m\n\u001b[1;32m   2466\u001b[0m \u001b[43m    \u001b[49m\u001b[43m)\u001b[49m\u001b[38;5;241m.\u001b[39mscalars()\n",
      "File \u001b[0;32m~/anaconda3/envs/thermal_mockup/lib/python3.12/site-packages/sqlalchemy/orm/session.py:2134\u001b[0m, in \u001b[0;36mSession._execute_internal\u001b[0;34m(self, statement, params, execution_options, bind_arguments, _parent_execute_state, _add_event, _scalar_result)\u001b[0m\n\u001b[1;32m   2123\u001b[0m \u001b[38;5;28;01mdef\u001b[39;00m \u001b[38;5;21m_execute_internal\u001b[39m(\n\u001b[1;32m   2124\u001b[0m     \u001b[38;5;28mself\u001b[39m,\n\u001b[1;32m   2125\u001b[0m     statement: Executable,\n\u001b[0;32m   (...)\u001b[0m\n\u001b[1;32m   2132\u001b[0m     _scalar_result: \u001b[38;5;28mbool\u001b[39m \u001b[38;5;241m=\u001b[39m \u001b[38;5;28;01mFalse\u001b[39;00m,\n\u001b[1;32m   2133\u001b[0m ) \u001b[38;5;241m-\u001b[39m\u001b[38;5;241m>\u001b[39m Any:\n\u001b[0;32m-> 2134\u001b[0m     statement \u001b[38;5;241m=\u001b[39m \u001b[43mcoercions\u001b[49m\u001b[38;5;241;43m.\u001b[39;49m\u001b[43mexpect\u001b[49m\u001b[43m(\u001b[49m\u001b[43mroles\u001b[49m\u001b[38;5;241;43m.\u001b[39;49m\u001b[43mStatementRole\u001b[49m\u001b[43m,\u001b[49m\u001b[43m \u001b[49m\u001b[43mstatement\u001b[49m\u001b[43m)\u001b[49m\n\u001b[1;32m   2136\u001b[0m     \u001b[38;5;28;01mif\u001b[39;00m \u001b[38;5;129;01mnot\u001b[39;00m bind_arguments:\n\u001b[1;32m   2137\u001b[0m         bind_arguments \u001b[38;5;241m=\u001b[39m {}\n",
      "File \u001b[0;32m~/anaconda3/envs/thermal_mockup/lib/python3.12/site-packages/sqlalchemy/sql/coercions.py:396\u001b[0m, in \u001b[0;36mexpect\u001b[0;34m(role, element, apply_propagate_attrs, argname, post_inspect, disable_inspection, **kw)\u001b[0m\n\u001b[1;32m    393\u001b[0m                 impl\u001b[38;5;241m.\u001b[39m_raise_for_expected(original_element, argname)\n\u001b[1;32m    395\u001b[0m     \u001b[38;5;28;01mif\u001b[39;00m resolved \u001b[38;5;129;01mis\u001b[39;00m \u001b[38;5;28;01mNone\u001b[39;00m:\n\u001b[0;32m--> 396\u001b[0m         resolved \u001b[38;5;241m=\u001b[39m \u001b[43mimpl\u001b[49m\u001b[38;5;241;43m.\u001b[39;49m\u001b[43m_literal_coercion\u001b[49m\u001b[43m(\u001b[49m\n\u001b[1;32m    397\u001b[0m \u001b[43m            \u001b[49m\u001b[43melement\u001b[49m\u001b[43m,\u001b[49m\u001b[43m \u001b[49m\u001b[43margname\u001b[49m\u001b[38;5;241;43m=\u001b[39;49m\u001b[43margname\u001b[49m\u001b[43m,\u001b[49m\u001b[43m \u001b[49m\u001b[38;5;241;43m*\u001b[39;49m\u001b[38;5;241;43m*\u001b[39;49m\u001b[43mkw\u001b[49m\n\u001b[1;32m    398\u001b[0m \u001b[43m        \u001b[49m\u001b[43m)\u001b[49m\n\u001b[1;32m    399\u001b[0m \u001b[38;5;28;01melse\u001b[39;00m:\n\u001b[1;32m    400\u001b[0m     resolved \u001b[38;5;241m=\u001b[39m element\n",
      "File \u001b[0;32m~/anaconda3/envs/thermal_mockup/lib/python3.12/site-packages/sqlalchemy/sql/coercions.py:634\u001b[0m, in \u001b[0;36m_CoerceLiterals._literal_coercion\u001b[0;34m(self, element, argname, **kw)\u001b[0m\n\u001b[1;32m    631\u001b[0m \u001b[38;5;28;01mif\u001b[39;00m \u001b[38;5;28mself\u001b[39m\u001b[38;5;241m.\u001b[39m_coerce_numerics \u001b[38;5;129;01mand\u001b[39;00m \u001b[38;5;28misinstance\u001b[39m(element, (numbers\u001b[38;5;241m.\u001b[39mNumber)):\n\u001b[1;32m    632\u001b[0m     \u001b[38;5;28;01mreturn\u001b[39;00m elements\u001b[38;5;241m.\u001b[39mColumnClause(\u001b[38;5;28mstr\u001b[39m(element), is_literal\u001b[38;5;241m=\u001b[39m\u001b[38;5;28;01mTrue\u001b[39;00m)\n\u001b[0;32m--> 634\u001b[0m \u001b[38;5;28;43mself\u001b[39;49m\u001b[38;5;241;43m.\u001b[39;49m\u001b[43m_raise_for_expected\u001b[49m\u001b[43m(\u001b[49m\u001b[43melement\u001b[49m\u001b[43m,\u001b[49m\u001b[43m \u001b[49m\u001b[43margname\u001b[49m\u001b[43m)\u001b[49m\n",
      "File \u001b[0;32m~/anaconda3/envs/thermal_mockup/lib/python3.12/site-packages/sqlalchemy/sql/coercions.py:518\u001b[0m, in \u001b[0;36mRoleImpl._raise_for_expected\u001b[0;34m(self, element, argname, resolved, advice, code, err, **kw)\u001b[0m\n\u001b[1;32m    515\u001b[0m \u001b[38;5;28;01mif\u001b[39;00m advice:\n\u001b[1;32m    516\u001b[0m     msg \u001b[38;5;241m+\u001b[39m\u001b[38;5;241m=\u001b[39m \u001b[38;5;124m\"\u001b[39m\u001b[38;5;124m \u001b[39m\u001b[38;5;124m\"\u001b[39m \u001b[38;5;241m+\u001b[39m advice\n\u001b[0;32m--> 518\u001b[0m \u001b[38;5;28;01mraise\u001b[39;00m exc\u001b[38;5;241m.\u001b[39mArgumentError(msg, code\u001b[38;5;241m=\u001b[39mcode) \u001b[38;5;28;01mfrom\u001b[39;00m \u001b[38;5;21;01merr\u001b[39;00m\n",
      "\u001b[0;31mArgumentError\u001b[0m: Executable SQL or text() construct expected, got <class 'models.Run'>."
     ]
    }
   ],
   "source": [
    "# list run numbers \n",
    "\n",
    "with Session(engine) as session:\n",
    "    query = select(dm.Run)\n",
    "\n",
    "    for run in session.execute(query):\n",
    "        print(run)"
   ]
  }
 ],
 "metadata": {
  "kernelspec": {
   "display_name": "thermal_mockup",
   "language": "python",
   "name": "python3"
  },
  "language_info": {
   "codemirror_mode": {
    "name": "ipython",
    "version": 3
   },
   "file_extension": ".py",
   "mimetype": "text/x-python",
   "name": "python",
   "nbconvert_exporter": "python",
   "pygments_lexer": "ipython3",
   "version": "3.12.4"
  }
 },
 "nbformat": 4,
 "nbformat_minor": 2
}

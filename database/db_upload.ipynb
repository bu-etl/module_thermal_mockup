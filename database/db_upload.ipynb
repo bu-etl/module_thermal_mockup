{
 "cells": [
  {
   "cell_type": "code",
   "execution_count": 3,
   "metadata": {},
   "outputs": [],
   "source": [
    "from env import DATABASE_URI\n",
    "from sqlalchemy import create_engine, text, select\n",
    "from sqlalchemy.orm import Session\n",
    "import models as dm \n",
    "from datetime import datetime\n",
    "engine = create_engine(DATABASE_URI, echo=False )\n"
   ]
  },
  {
   "cell_type": "code",
   "execution_count": 4,
   "metadata": {},
   "outputs": [],
   "source": [
    "##\n",
    "#### ADD THERMAL MOCKUP\n",
    "##\n",
    "\n",
    "# increment by one for the FNAL\n",
    "THERMAL_MOCKUP_SERIAL_NUMBER = \"TM0003\"\n",
    "with Session(engine) as session:\n",
    "    thermal_mockup = dm.Module(\n",
    "        name = THERMAL_MOCKUP_SERIAL_NUMBER\n",
    "    )\n",
    "    thermal_mockup.info = \"Third mockup assembled at FNAL, Nov 20th 2024. Dummies: Micross 21, Micross 22, Micross 23, Micross 25\"\n",
    "    session.add(thermal_mockup)\n",
    "    session.commit()"
   ]
  },
  {
   "cell_type": "code",
   "execution_count": null,
   "metadata": {},
   "outputs": [],
   "source": [
    "##\n",
    "#### SOLDER PLATE UPLOAD\n",
    "##\n",
    "with Session(engine) as session:\n",
    "    # # add Cold Plate configuration (epoxy and solder v1 and solder v2)\n",
    "    with open(\"/home/hayden/Downloads/pretty_double_loop_solder_plate.png\", 'rb') as f:\n",
    "        plate_image = f.read()\n",
    "    plate = dm.ColdPlate(\n",
    "        name='Pretty Double Loop Solder Plate',\n",
    "        positions = {\n",
    "            1:  'front side, top row, far left',\n",
    "            2:  'front side, top row, middle left',\n",
    "            3:  'front side, top row, middle right',\n",
    "            4:  'front side, top row, far right',\n",
    "            5:  'front side, middle row, far left',\n",
    "            6:  'front side, middle row, middle left',\n",
    "            7:  'front side, middle row, middle right',\n",
    "            8:  'front side, middle row, far right',\n",
    "            9:  'front side, bottom row, far left',\n",
    "            10: 'front side, bottom row, middle left',\n",
    "            11: 'front side, bottom row, middle right',\n",
    "            12: 'front side, bottom row, far right',\n",
    "            13: 'back side, top row, far left',\n",
    "            14: 'back side, top row, middle left',\n",
    "            15: 'back side, top row, middle right',\n",
    "            16: 'back side, top row, far right',\n",
    "            17: 'back side, middle row, far left',\n",
    "            18: 'back side, middle row, middle left',\n",
    "            19: 'back side, middle row, middle right',\n",
    "            20: 'back side, middle row, far right',\n",
    "            21: 'back side, bottom row, far left bottom',\n",
    "            22: 'back side, bottom row, middle left bottom',\n",
    "            23: 'back side, bottom row, middle right bottom',\n",
    "            24: 'back side, bottom row, far right bottom'\n",
    "        },\n",
    "        plate_image = plate_image,\n",
    "    )\n",
    "    session.add(plate)\n",
    "    session.commit()"
   ]
  },
  {
   "cell_type": "code",
   "execution_count": 4,
   "metadata": {},
   "outputs": [],
   "source": [
    "##\n",
    "#### CALIBRATION DATA\n",
    "## \n",
    "import json\n",
    "\n",
    "MODULE_SERIAL_NUMBER = 'TM0002'\n",
    "CALIBRATION_DATA_PATH = \"/home/hayden/repos/module_pcb_thermal_mockup/module_pcb_thermal_mockup_v3.5/software/CalibrationGUI/calibration_data_TM0002_2024-12-12 13:39:40.875475.json\"\n",
    "\n",
    "ENABLED_SENSORS = ['E1','E2','E3','E4','L1', \"L3\"]\n",
    "\n",
    "CALIBRATION_COMMENT = \"This the first calibration done in the TIF Climate Box: Batiment 28 2-020\"\n",
    "\n",
    "with Session(engine) as session:\n",
    "    query = select(dm.Module).where(dm.Module.name == MODULE_SERIAL_NUMBER)\n",
    "    thermal_mockup = session.execute(query).scalars().first()\n",
    "    \n",
    "    with open(CALIBRATION_DATA_PATH, 'r') as f:\n",
    "        calib_data = json.load(f)\n",
    "\n",
    "    db_calibs = []\n",
    "    for sensor in ENABLED_SENSORS:\n",
    "        db_calibs.append(\n",
    "            dm.SensorCalibration(\n",
    "                module = thermal_mockup,\n",
    "                sensor = sensor,\n",
    "                fit_ohms_over_celcius = calib_data[sensor]['fit_slope'],\n",
    "                fit_ohms_intercept = calib_data[sensor]['fit_intercept'],\n",
    "                celcius = calib_data[sensor]['temps'],\n",
    "                ohms = calib_data[sensor]['ohms'],\n",
    "                raw_adc = calib_data[sensor]['raw_adcs'],\n",
    "                times = calib_data[sensor]['times'],\n",
    "                all_raw_adcs = calib_data[sensor]['all_raw_adcs'],\n",
    "                all_raw_times = calib_data[sensor]['all_times'],\n",
    "            )\n",
    "        )\n",
    "    session.add_all(db_calibs)\n",
    "    mod_recalib = dm.ModuleCalibration(\n",
    "        E1 = db_calibs[0],\n",
    "        E2 = db_calibs[1],\n",
    "        E3 = db_calibs[2],\n",
    "        E4 = db_calibs[3],\n",
    "        L1 = db_calibs[4],\n",
    "        L3 = db_calibs[5],\n",
    "        module = thermal_mockup,\n",
    "        comment=CALIBRATION_COMMENT\n",
    "    )\n",
    "\n",
    "    session.add(mod_recalib)\n",
    "\n",
    "    thermal_mockup.calibration = mod_recalib\n",
    "\n",
    "    session.commit()"
   ]
  },
  {
   "cell_type": "code",
   "execution_count": 3,
   "metadata": {},
   "outputs": [],
   "source": [
    "# query runs\n",
    "with Session(engine) as session:\n",
    "    module = select(dm.Module).where(dm.Module.name==\"TM0002\")\n",
    "    module.info = \"Second thermal mockup, assembled at FNAL Nov 20th, 2024. Dummies: Micross 15, Micross 16, Micross 17, Micross 18\"\n",
    "    session.commit()"
   ]
  },
  {
   "cell_type": "code",
   "execution_count": 5,
   "metadata": {},
   "outputs": [
    {
     "name": "stdout",
     "output_type": "stream",
     "text": [
      "(Run(id=14, mode='DEBUG'), comment='just to see if db connection works and gui is still working',)\n",
      "(Run(id=1, mode='TEST'), comment='First Run',)\n",
      "(Run(id=2, mode='TEST'), comment='Checking dead channels for first thermal mockup test in cold box',)\n",
      "(Run(id=3, mode='REAL'), comment='Epoxy Plate, Back Heaters On, TM-Back-Middle',)\n",
      "(Run(id=4, mode='REAL'), comment='Epoxy Plate, Back Heaters Off, TM-Back-Middle',)\n",
      "(Run(id=5, mode='TEST'), comment='checking connectivity',)\n",
      "(Run(id=6, mode='TEST'), comment='checking connectivity',)\n",
      "(Run(id=7, mode='REAL'), comment='Epoxy Plate, Front Heaters Off, TM-Front-Middle',)\n",
      "(Run(id=8, mode='REAL'), comment='Epoxy Plate, Front Heaters On, TM-Front-Middle',)\n",
      "(Run(id=9, mode='TEST'), comment='debugging',)\n",
      "(Run(id=10, mode='TEST'), comment='debugging',)\n",
      "(Run(id=11, mode='TEST'), comment='checking the working of sensors',)\n",
      "(Run(id=12, mode='REAL'), comment='Solder Plate, No Heater, TM-Back-Middle',)\n",
      "(Run(id=13, mode='REAL'), comment='Solder Plate, No Heaters, TM-Front-Middle - High Tdiff between E4 and E3, warm',)\n",
      "(Run(id=18, mode='DEBUG'), comment='debugging software, with old thermal mockup',)\n",
      "(Run(id=19, mode='DEBUG'), comment='checking refactor for software!',)\n",
      "(Run(id=21, mode='DEBUG'), comment='checking refactor for software!',)\n",
      "(Run(id=22, mode='DEBUG'), comment='DEBUGGING Usiing probe readout :))',)\n",
      "(Run(id=23, mode='DEBUG'), comment='#2 DEBUGGING Usiing probe readout :))',)\n",
      "(Run(id=24, mode='DEBUG'), comment='#3 DEBUGGING Usiing probe readout :))',)\n",
      "(Run(id=25, mode='DEBUG'), comment='Checking readout of new thermal mockup',)\n",
      "(Run(id=26, mode='DEBUG'), comment='Checking readout of new thermal mockup',)\n",
      "(Run(id=27, mode='DEBUG'), comment='Checking readout of new thermal mockup',)\n",
      "(Run(id=28, mode='DEBUG'), comment='Checking all sensors are ok',)\n",
      "(Run(id=29, mode='DEBUG'), comment='checking heaters are working',)\n",
      "(Run(id=30, mode='DEBUG'), comment='checking heaters are working',)\n",
      "(Run(id=31, mode='DEBUG'), comment='checking heaters are working',)\n",
      "(Run(id=32, mode='DEBUG'), comment='checking heaters are working',)\n",
      "(Run(id=33, mode='DEBUG'), comment='checking heaters are working',)\n",
      "(Run(id=34, mode='DEBUG'), comment='checking heaters are working',)\n",
      "(Run(id=35, mode='DEBUG'), comment='checking heaters are working',)\n",
      "(Run(id=36, mode='REAL'), comment='Starting official run of first thermal mockup, heaters on!',)\n"
     ]
    }
   ],
   "source": [
    "# query runs\n",
    "with Session(engine) as session:\n",
    "    for run in session.execute(select(dm.Run)):\n",
    "        print(run)"
   ]
  },
  {
   "cell_type": "code",
   "execution_count": null,
   "metadata": {},
   "outputs": [
    {
     "name": "stdout",
     "output_type": "stream",
     "text": [
      "Module(id=3, name='TM0002')\n",
      "Module(id=3, name='TM0002')\n"
     ]
    },
    {
     "data": {
      "image/png": "[encoded data removed]",
      "text/plain": [
       "<Figure size 640x480 with 1 Axes>"
      ]
     },
     "metadata": {},
     "output_type": "display_data"
    }
   ],
   "source": [
    "# QUERYING\n",
    "import matplotlib.pyplot as plt\n",
    "\n",
    "def get_sensor_data(run:int, module: str, sensor: str):\n",
    "    module = session.execute(select(dm.Module).where(dm.Module.name == module)).scalar()\n",
    "    print(module)\n",
    "    query = select(dm.Data).where(\n",
    "        dm.Data.run_id==run, dm.Data.sensor==sensor, dm.Data.module == module)\n",
    "\n",
    "    data = session.execute(query.order_by(dm.Data.id)).scalars().all()\n",
    "    return data\n",
    "\n",
    "def elapsed_time(time: list):\n",
    "    t0 = time[0]\n",
    "    return [(t - t0).total_seconds() / 60 for t in time]\n",
    "\n",
    "def sensor_plot(data:list[dm.Data], **kwargs):\n",
    "    y_data = [d.celcius for d in data]\n",
    "    ts = elapsed_time([t.timestamp for t in data])\n",
    "\n",
    "    plt.plot(ts, y_data, **kwargs)\n",
    "\n",
    "with Session(engine) as session:\n",
    "    run = 36\n",
    "    module = \"TMO002\"\n",
    "    etroc = \"E1\"\n",
    "    lgad = \"L1\"\n",
    "    E_data = get_sensor_data(run, module, etroc)\n",
    "    L_data = get_sensor_data(run, module, lgad)\n",
    "\n",
    "    start_idx, stop_idx = 0, 2000\n",
    "    sensor_plot(E_data[start_idx:stop_idx], label=etroc)\n",
    "    sensor_plot(L_data[start_idx:stop_idx], label=lgad)\n",
    "    # dT = np.array([e.celcius - l.celcius for e, l in zip(E3_data, L3_data)])\n",
    "\n",
    "    # print(np.mean(dT[start_idx:stop_idx]))\n",
    "    # plt.plot(elapsed_time([t.timestamp for t in E3_data[start_idx:stop_idx]]), dT[start_idx:stop_idx])\n",
    "\n",
    "    plt.xlabel('Minutes')\n",
    "    plt.ylabel(\"Celcius\")\n",
    "    plt.legend()"
   ]
  },
  {
   "cell_type": "code",
   "execution_count": 25,
   "metadata": {},
   "outputs": [
    {
     "name": "stdout",
     "output_type": "stream",
     "text": [
      "Module(id=1, name='TM0001')\n",
      "mod=Module(id=1, name='TM0001')\n"
     ]
    }
   ],
   "source": [
    "from pydantic import BaseModel, field_validator, ConfigDict, model_validator, model_serializer\n",
    "from typing import Optional\n",
    "from functools import partial\n",
    "\n",
    "# def db_exists_validator(cls, value, db_model, column):\n",
    "#     if isinstance(value, str):\n",
    "#         # Query for module\n",
    "#         obj = cls.session.execute(\n",
    "#             select(db_model).where(column == value)\n",
    "#         ).scalar()\n",
    "\n",
    "#         assert obj is not None, f\"{db_model.__name__} not found in database\"\n",
    "#         return obj\n",
    "#     return value\n",
    "\n",
    "\n",
    "class DBBaseModel(BaseModel):\n",
    "\n",
    "    @classmethod\n",
    "    def set_session(cls, session):\n",
    "        cls.session = session\n",
    "\n",
    "    @classmethod\n",
    "    def exists_validator(cls, value, db_model, column):\n",
    "        if isinstance(value, str):\n",
    "            # Query for module\n",
    "            obj = cls.session.execute(\n",
    "                select(db_model).where(column == value)\n",
    "            ).scalar()\n",
    "\n",
    "            assert obj is not None, f\"{db_model.__name__} not found in database\"\n",
    "            return obj\n",
    "        return value\n",
    "\n",
    "class ModuleConfig(DBBaseModel):\n",
    "    model_config = ConfigDict(arbitrary_types_allowed=True)\n",
    "    mod: dm.Module\n",
    "    \n",
    "    _mod_exists_validator = field_validator('mod', mode='before')(\n",
    "        partial(DBBaseModel.exists_validator, db_model=dm.Module, column=dm.Module.name)\n",
    "    )\n",
    "    # @field_validator('mod', mode='before')\n",
    "    # @classmethod\n",
    "    # def validate_mod(cls, v: str) -> dm.Module:\n",
    "    #     if isinstance(v, str):\n",
    "    #         # Query for module\n",
    "    #         module = cls.session.execute(\n",
    "    #             select(dm.Module).where(dm.Module.name == v)\n",
    "    #         ).scalar()\n",
    "\n",
    "    #         assert module is not None, \"Module not found in database\"\n",
    "    #         return module\n",
    "    #     return v\n",
    "\n",
    "\n",
    "\n",
    "# Example usage\n",
    "\n",
    "DBBaseModel.set_session(session)\n",
    "module_instance = ModuleConfig(mod=\"TM0001\")\n",
    "print(module_instance.mod)\n",
    "\n",
    "print(module_instance)"
   ]
  },
  {
   "cell_type": "code",
   "execution_count": 30,
   "metadata": {},
   "outputs": [
    {
     "name": "stdout",
     "output_type": "stream",
     "text": [
      "ModuleCalibration(id=4, comment='This is the recalibration for the thermal mockup that was done by Hayden at IRRAD')\n"
     ]
    }
   ],
   "source": [
    "with Session(engine) as session:\n",
    "    module = session.execute(select(dm.Module).where(dm.Module.name == \"TM0001\")).scalar()\n",
    "    print(module.calibration)"
   ]
  },
  {
   "cell_type": "code",
   "execution_count": null,
   "metadata": {},
   "outputs": [],
   "source": [
    "\"\"\"\n",
    "Probe 1: 0xf6b3\n",
    "Probe 2: 0xf6d3\n",
    "Probe 3: 0xf6db\n",
    "\"\"\"\n"
   ]
  }
 ],
 "metadata": {
  "kernelspec": {
   "display_name": "thermal_mockup",
   "language": "python",
   "name": "python3"
  },
  "language_info": {
   "codemirror_mode": {
    "name": "ipython",
    "version": 3
   },
   "file_extension": ".py",
   "mimetype": "text/x-python",
   "name": "python",
   "nbconvert_exporter": "python",
   "pygments_lexer": "ipython3",
   "version": "3.12.4"
  }
 },
 "nbformat": 4,
 "nbformat_minor": 2
}
